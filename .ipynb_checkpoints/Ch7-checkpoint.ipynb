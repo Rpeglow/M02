{
 "cells": [
  {
   "cell_type": "code",
   "execution_count": null,
   "id": "0aa5ddbe",
   "metadata": {},
   "outputs": [],
   "source": [
    "things = [\"mozzarella\",\"cinderella\",\"salmonella\"]"
   ]
  },
  {
   "cell_type": "code",
   "execution_count": 10,
   "id": "68b25fa0",
   "metadata": {},
   "outputs": [
    {
     "name": "stdout",
     "output_type": "stream",
     "text": [
      "['mozzarella', 'Cinderella', 'salmonella']\n"
     ]
    }
   ],
   "source": [
    "things = [\"mozzarella\",\"cinderella\",\"salmonella\"]\n",
    "things[1]=\"Cinderella\"\n",
    "print(things)\n",
    "#I changed the element \"cinderella\" to capitalize the first letter in her name"
   ]
  },
  {
   "cell_type": "code",
   "execution_count": 4,
   "id": "4cfa7e9b",
   "metadata": {},
   "outputs": [
    {
     "name": "stdout",
     "output_type": "stream",
     "text": [
      "['MOZZARELLA', 'cinderella', 'salmonella']\n"
     ]
    }
   ],
   "source": [
    "things = [\"mozzarella\",\"cinderella\",\"salmonella\"]\n",
    "things[0]=\"MOZZARELLA\"\n",
    "print(things)"
   ]
  },
  {
   "cell_type": "code",
   "execution_count": 5,
   "id": "c0ce4dc7",
   "metadata": {},
   "outputs": [
    {
     "name": "stdout",
     "output_type": "stream",
     "text": [
      "['mozzarella', 'cinderella']\n"
     ]
    }
   ],
   "source": [
    "things = [\"mozzarella\",\"cinderella\",\"salmonella\"]\n",
    "things.pop(2)\n",
    "print(things)"
   ]
  },
  {
   "cell_type": "code",
   "execution_count": null,
   "id": "7e953550",
   "metadata": {},
   "outputs": [],
   "source": []
  }
 ],
 "metadata": {
  "kernelspec": {
   "display_name": "Python 3 (ipykernel)",
   "language": "python",
   "name": "python3"
  },
  "language_info": {
   "codemirror_mode": {
    "name": "ipython",
    "version": 3
   },
   "file_extension": ".py",
   "mimetype": "text/x-python",
   "name": "python",
   "nbconvert_exporter": "python",
   "pygments_lexer": "ipython3",
   "version": "3.9.13"
  }
 },
 "nbformat": 4,
 "nbformat_minor": 5
}
