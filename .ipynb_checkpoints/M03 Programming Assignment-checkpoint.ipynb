{
 "cells": [
  {
   "cell_type": "code",
   "execution_count": null,
   "id": "92c0f289",
   "metadata": {},
   "outputs": [],
   "source": [
    "things = [\"mozzarella\",\"cinderella\",\"salmonella\"]"
   ]
  },
  {
   "cell_type": "code",
   "execution_count": 10,
   "id": "22eccdbb",
   "metadata": {},
   "outputs": [
    {
     "name": "stdout",
     "output_type": "stream",
     "text": [
      "['mozzarella', 'Cinderella', 'salmonella']\n"
     ]
    }
   ],
   "source": [
    "things = [\"mozzarella\",\"cinderella\",\"salmonella\"]\n",
    "things[1]=\"Cinderella\"\n",
    "print(things)\n",
    "#I changed the element \"cinderella\" to capitalize the first letter in her name"
   ]
  },
  {
   "cell_type": "code",
   "execution_count": 4,
   "id": "499ab0a3",
   "metadata": {},
   "outputs": [
    {
     "name": "stdout",
     "output_type": "stream",
     "text": [
      "['MOZZARELLA', 'cinderella', 'salmonella']\n"
     ]
    }
   ],
   "source": [
    "things = [\"mozzarella\",\"cinderella\",\"salmonella\"]\n",
    "things[0]=\"MOZZARELLA\"\n",
    "print(things)\n",
    "#Cheese is screamed"
   ]
  },
  {
   "cell_type": "code",
   "execution_count": 5,
   "id": "c3b31f7c",
   "metadata": {},
   "outputs": [
    {
     "name": "stdout",
     "output_type": "stream",
     "text": [
      "['mozzarella', 'cinderella']\n"
     ]
    }
   ],
   "source": [
    "things = [\"mozzarella\",\"cinderella\",\"salmonella\"]\n",
    "things.pop(2)\n",
    "print(things)\n",
    "#deleted the virus"
   ]
  },
  {
   "cell_type": "code",
   "execution_count": 13,
   "id": "d35b6665",
   "metadata": {},
   "outputs": [
    {
     "data": {
      "text/plain": [
       "['Harry', 'Ron', 'Hermione']"
      ]
     },
     "execution_count": 13,
     "metadata": {},
     "output_type": "execute_result"
    }
   ],
   "source": [
    "def good():\n",
    "    return [\"Harry\",\"Ron\",\"Hermione\"]\n",
    "good()\n",
    "#create function that returns a list"
   ]
  },
  {
   "cell_type": "code",
   "execution_count": 76,
   "id": "37fa33ad",
   "metadata": {},
   "outputs": [
    {
     "name": "stdout",
     "output_type": "stream",
     "text": [
      "5\n"
     ]
    },
    {
     "data": {
      "text/plain": [
       "<generator object get_odds at 0x000001E4EF6815F0>"
      ]
     },
     "execution_count": 76,
     "metadata": {},
     "output_type": "execute_result"
    }
   ],
   "source": [
    "#9.2 Define a generator function called get_odds() that returns the odd numbers from range(10).\n",
    "\n",
    "def get_odds():\n",
    "     for number in range(10): \n",
    "        if number % 2:\n",
    "            yield number\n",
    "\n",
    "\n",
    "#Use a for loop to find and print the third value returned.\n",
    "count = 0 #count to find the third value\n",
    "for number in get_odds():\n",
    "    count += 1\n",
    "    if count == 3:\n",
    "        print(number)\n",
    "        break\n",
    "get_odds()\n"
   ]
  },
  {
   "cell_type": "code",
   "execution_count": null,
   "id": "b34dcdd0",
   "metadata": {},
   "outputs": [],
   "source": []
  }
 ],
 "metadata": {
  "kernelspec": {
   "display_name": "Python 3 (ipykernel)",
   "language": "python",
   "name": "python3"
  },
  "language_info": {
   "codemirror_mode": {
    "name": "ipython",
    "version": 3
   },
   "file_extension": ".py",
   "mimetype": "text/x-python",
   "name": "python",
   "nbconvert_exporter": "python",
   "pygments_lexer": "ipython3",
   "version": "3.9.13"
  }
 },
 "nbformat": 4,
 "nbformat_minor": 5
}
